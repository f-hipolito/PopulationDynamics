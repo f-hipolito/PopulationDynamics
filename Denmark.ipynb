{
 "cells": [
  {
   "cell_type": "markdown",
   "metadata": {},
   "source": [
    "# Denmark\n",
    "\n",
    "This notebook contains all the Julia 1.4 code required to\n",
    "characterize the propagation of CoViD19 as discussed in the main\n",
    "notebook: _Population_dynamics.ipynb_"
   ]
  },
  {
   "cell_type": "markdown",
   "metadata": {},
   "source": [
    "### Initialization, display LOAD_PATH at the end"
   ]
  },
  {
   "cell_type": "code",
   "execution_count": null,
   "metadata": {},
   "outputs": [],
   "source": [
    "push!(LOAD_PATH, pwd())\n",
    "if ispath( pwd()*\"/src\")\n",
    "    push!(LOAD_PATH, pwd()*\"/src\")\n",
    "end\n",
    "\n",
    "\n",
    "using SpecialFunctions, LaTeXStrings\n",
    "using DataFrames, Query, CSV, Dates\n",
    "using LsqFit\n",
    "\n",
    "using MyFunctions, Mrate\n",
    "\n",
    "using Plots\n",
    "theme(:solarized_light)"
   ]
  },
  {
   "cell_type": "markdown",
   "metadata": {},
   "source": [
    "### Parametrization for the incubation times, source:\n",
    "https://doi.org/10.2807/1560-7917.ES.2020.25.5.2000062"
   ]
  },
  {
   "cell_type": "code",
   "execution_count": null,
   "metadata": {},
   "outputs": [],
   "source": [
    "μΓ, σΓ = 6.5, 2.6       # mean and standard deviation for incubation\n",
    "\n",
    "αΓ( μ, σ ) = μ^2/σ^2    # [α] = 1  is a dimensionless parameter\n",
    "βΓ( μ, σ ) = μ / σ^2    # [β] = 1/T has dimension of frequency\n",
    "\n",
    "α0 = αΓ( μΓ, σΓ )\n",
    "β0 = βΓ( μΓ, σΓ )\n",
    "\n",
    "ρ0=[α0,β0]"
   ]
  },
  {
   "cell_type": "markdown",
   "metadata": {},
   "source": [
    "### load data and manipulate data"
   ]
  },
  {
   "cell_type": "code",
   "execution_count": null,
   "metadata": {
    "scrolled": true
   },
   "outputs": [],
   "source": [
    "dset_origin = \"/data.europa.eu\"\n",
    "dset_name = \"6u83xREK\"\n",
    "worlddata = CSV.File( pwd()*dset_origin*\"/\"*dset_name ) |> DataFrame!\n",
    "\n",
    "country_name = \"Denmark\"\n",
    "country = worlddata |> @filter(_.countriesAndTerritories==country_name\n",
    "    ) |> DataFrame\n",
    "\n",
    "dates = Date.( country[!,:dateRep], \"d/m/y\" )\n",
    "population = country[1,:popData2018]"
   ]
  },
  {
   "cell_type": "code",
   "execution_count": null,
   "metadata": {},
   "outputs": [],
   "source": [
    "ordering = sortperm( dates );\n",
    "dates_ordered = dates[ordering];\n",
    "cases = country[!,:cases][ordering];\n",
    "deaths = country[!,:deaths][ordering];"
   ]
  },
  {
   "cell_type": "code",
   "execution_count": null,
   "metadata": {},
   "outputs": [],
   "source": [
    "t_offset = dates_ordered[1];\n",
    "Δt = dates_ordered -t_offset;\n",
    "Δtv = Dates.value.( Δt );"
   ]
  },
  {
   "cell_type": "code",
   "execution_count": null,
   "metadata": {},
   "outputs": [],
   "source": [
    "cases_cum =  cumsum( cases );\n",
    "deaths_cum =  cumsum( deaths );\n",
    "n_cases = cases_cum/population;\n",
    "n_deaths = deaths_cum/population;\n",
    "\n",
    "ndata = n_cases;"
   ]
  },
  {
   "cell_type": "markdown",
   "metadata": {},
   "source": [
    "#### visualize raw data"
   ]
  },
  {
   "cell_type": "code",
   "execution_count": null,
   "metadata": {},
   "outputs": [],
   "source": [
    "nM = 1.25 *maximum( ndata );\n",
    "nm = 0.75 *minimum( ndata );\n",
    "\n",
    "tm, tM = 1, maximum( Δtv ) +5;"
   ]
  },
  {
   "cell_type": "code",
   "execution_count": null,
   "metadata": {},
   "outputs": [],
   "source": [
    "plot( Δtv, ndata, label=\"data\"\n",
    "    , markershape=:+, markersize=5, linealpha=0\n",
    "    , legend=:bottomright )\n",
    "plot!( xlabel = L\"t \\, \\mathrm{(d)}\",\n",
    "    xlims = (-5,tM), xticks = 0:15:tM )\n",
    "plot!( ylabel = L\"n \\, (\\mathrm{cases}/N_t)\", ylims = (nm,nM)  )"
   ]
  },
  {
   "cell_type": "code",
   "execution_count": null,
   "metadata": {},
   "outputs": [],
   "source": [
    "savefig(\"img/\"*country_name*\"_raw.svg\")\n",
    "plot!( yscale = :log10, ylims = (5*10^(-7.), 5*10^(-3.)) \n",
    "    , xlims=(45,tM))"
   ]
  },
  {
   "cell_type": "code",
   "execution_count": null,
   "metadata": {},
   "outputs": [],
   "source": [
    "savefig(\"img/\"*country_name*\"_raw_log.svg\")\n",
    "plot!( yscale = :auto, ylims = (nm,nM),xlims = (-5,tM) );"
   ]
  },
  {
   "cell_type": "markdown",
   "metadata": {},
   "source": [
    "### The models\n",
    "__Note:__ parameter p[2] is not multiplied by p[1] as in the main notes. Here p[2] is dimensionless! To recover the definition used in the main text divide by p[1], ie t_0 = p[2]/p[1]"
   ]
  },
  {
   "cell_type": "code",
   "execution_count": null,
   "metadata": {},
   "outputs": [],
   "source": [
    "# simple logistic model\n",
    "@. model0(t,p) = 1/( 1.0 +exp( -p[1]*t +p[2] ) )"
   ]
  },
  {
   "cell_type": "code",
   "execution_count": null,
   "metadata": {},
   "outputs": [],
   "source": [
    "# the m-steady state model and its Jacobian\n",
    "# definitions of modelm, modelm_j and all other relevant functions\n",
    "# at Mrate.jl and MyFunctions.jl\n",
    "\n",
    "function m_m( t, p )\n",
    "    modelm(t,p,ρ0)\n",
    "end\n",
    "\n",
    "function j_m(t::Array,p)\n",
    "    J = Array{Float64}(undef, length(t), length(p))\n",
    "    J = modelm_j(t, p, ρ0)\n",
    "end"
   ]
  },
  {
   "cell_type": "code",
   "execution_count": null,
   "metadata": {},
   "outputs": [],
   "source": [
    "p0 = [0.25, 0. ];\n",
    "x0 = [0, 1.0, 2.0];\n",
    "@time model0(0.0, p0);\n",
    "@time model0(x0, p0);\n",
    "@time m_m(0.0,p0);\n",
    "@time m_m(x0,p0);\n",
    "@time j_m(x0,p0);\n",
    "\n",
    "p2 = [0.25, 18.8, 0.0025, 45., 0.035, 65. ];\n",
    "@time m_m(0.0,p2);\n",
    "@time m_m(x0,p2);\n",
    "@time j_m(x0,p2);"
   ]
  },
  {
   "cell_type": "markdown",
   "metadata": {},
   "source": [
    "### Nonlinear fits\n",
    "#### The logistic fit"
   ]
  },
  {
   "cell_type": "code",
   "execution_count": null,
   "metadata": {},
   "outputs": [],
   "source": [
    "dm, dM = 1, length(Δtv)\n",
    "fit0 = curve_fit( model0, Δtv[dm:dM], ndata[dm:dM], p0 )\n",
    "\n",
    "tcont = range(Δtv[1],Δtv[end]*1.1; length=length(Δtv))\n",
    "estimate0 = model0( tcont, fit0.param )\n",
    "plot!( tcont, estimate0, label=\"logistic\", linewidth=1.5 )"
   ]
  },
  {
   "cell_type": "code",
   "execution_count": null,
   "metadata": {},
   "outputs": [],
   "source": [
    "savefig(\"img/\"*country_name*\"_logistic.svg\")\n",
    "\n",
    "\n",
    "# truncate the dataset\n",
    "dm, dM = 1, 72\n",
    "p0 = [1., 80]\n",
    "\n",
    "fit0b = curve_fit( m_m, j_m, Δtv[dm:dM], ndata[dm:dM], p0 )\n",
    "estimate0b = m_m( tcont, fit0b.param );\n",
    "\n",
    "dm, dM = 75, 92\n",
    "p0 = [1., 80]\n",
    "\n",
    "fit0c = curve_fit( m_m, j_m, Δtv[dm:dM], ndata[dm:dM], p0 )\n",
    "estimate0c = m_m( tcont, fit0c.param );"
   ]
  },
  {
   "cell_type": "code",
   "execution_count": null,
   "metadata": {},
   "outputs": [],
   "source": [
    "pstr = \"truncated logistic\"\n",
    "plot!( tcont, estimate0b, label=pstr, linewidth = 1.5 )\n",
    "pstr = \"truncated logistic 2\"\n",
    "plot!( tcont, estimate0c, label=pstr, linewidth = 1.5 )"
   ]
  },
  {
   "cell_type": "code",
   "execution_count": null,
   "metadata": {},
   "outputs": [],
   "source": [
    "# half-population date!\n",
    "t12 = floor( fit0b.param[2]/fit0b.param[1] )\n",
    "t_offset +Dates.Day( t12 )"
   ]
  },
  {
   "cell_type": "code",
   "execution_count": null,
   "metadata": {},
   "outputs": [],
   "source": [
    "plot( Δtv, ndata, label=\"data\"\n",
    "    , markershape=:+, markersize=5, linealpha=0\n",
    "    , legend=:bottomright )\n",
    "plot!( xlabel = L\"t \\mathrm{(d)}\",\n",
    "    xlims = (41,tM), xticks = 45:15:tM )\n",
    "plot!( ylabel = L\"n (\\mathrm{cases}/N_t)\", ylims = (nm,nM)  )\n",
    "plot!( yscale = :log10, ylims = (5*10^(-6.),5*10^(-3.)) )\n",
    "plot!( tcont, estimate0b, label=\"truncated (t < 67)\", linewidth=1.5 )\n",
    "plot!( tcont, estimate0c, label=\"truncated (t > 67)\", linewidth=1.5 )"
   ]
  },
  {
   "cell_type": "code",
   "execution_count": null,
   "metadata": {},
   "outputs": [],
   "source": [
    "savefig(\"img/\"*country_name*\"_truncated_log.svg\")\n",
    "plot!( yscale = :none, ylims = (nm,nM)  );"
   ]
  },
  {
   "cell_type": "markdown",
   "metadata": {},
   "source": [
    "#### two steady state model m=1"
   ]
  },
  {
   "cell_type": "code",
   "execution_count": null,
   "metadata": {},
   "outputs": [],
   "source": [
    "dm, dM = 1, length(Δtv)\n",
    "p1 = [0.8, 15, 0.08, 60 ]\n",
    "fit1 = curve_fit( m_m, j_m, Δtv[dm:dM], ndata[dm:dM], p1 )\n",
    "estimate1 = m_m( tcont, fit1.param );"
   ]
  },
  {
   "cell_type": "code",
   "execution_count": null,
   "metadata": {},
   "outputs": [],
   "source": [
    "pstr = \"two steady states\"\n",
    "plot!( tcont, estimate1, label=pstr, linewidth=1.5  )"
   ]
  },
  {
   "cell_type": "code",
   "execution_count": null,
   "metadata": {},
   "outputs": [],
   "source": [
    "# transition date (day)\n",
    "t_offset +Dates.Day( floor( fit1.param[4] ) )"
   ]
  },
  {
   "cell_type": "code",
   "execution_count": null,
   "metadata": {},
   "outputs": [],
   "source": [
    "savefig(\"img/\"*country_name*\"_fits_converged.svg\")\n",
    "\n",
    "plot!( yscale = :log10, ylims = (5*10^(-6.), 5*10^(-3.)) )"
   ]
  },
  {
   "cell_type": "code",
   "execution_count": null,
   "metadata": {},
   "outputs": [],
   "source": [
    "savefig(\"img/\"*country_name*\"_fits_converged_log.svg\")\n",
    "\n",
    "plot!( yscale = :auto, ylims = (nm,nM) )"
   ]
  },
  {
   "cell_type": "code",
   "execution_count": null,
   "metadata": {},
   "outputs": [],
   "source": [
    "# doubling times for each rate\n",
    "round.( log(2) ./fit1.param[1:2:length(p1)]; sigdigits=3 )'"
   ]
  },
  {
   "cell_type": "markdown",
   "metadata": {},
   "source": [
    "##### Estimate quality of fit"
   ]
  },
  {
   "cell_type": "code",
   "execution_count": null,
   "metadata": {},
   "outputs": [],
   "source": [
    "cov_mat = estimate_covar(fit1)\n",
    "sigma = stderror(fit1)\n",
    "\n",
    "margin_of_error = margin_error(fit1, 0.05)\n",
    "confidence_inter = confidence_interval(fit1, 0.05)\n",
    "\n",
    "# display the parameters\n",
    "round.( fit1.param; sigdigits=3 )'"
   ]
  },
  {
   "cell_type": "code",
   "execution_count": null,
   "metadata": {},
   "outputs": [],
   "source": [
    "# estimate the margins of error\n",
    "round.( sigma; sigdigits=3 )'"
   ]
  },
  {
   "cell_type": "code",
   "execution_count": null,
   "metadata": {},
   "outputs": [],
   "source": [
    "# estimate the margins of error\n",
    "round.( margin_of_error; sigdigits=3 )'"
   ]
  },
  {
   "cell_type": "code",
   "execution_count": null,
   "metadata": {},
   "outputs": [],
   "source": [
    "# estimate the margins of error\n",
    "confidence_inter"
   ]
  },
  {
   "cell_type": "code",
   "execution_count": null,
   "metadata": {},
   "outputs": [],
   "source": [
    "# the covariance matrix estimate\n",
    "round.( cov_mat; sigdigits=3 )"
   ]
  }
 ],
 "metadata": {
  "kernelspec": {
   "display_name": "Julia 1.4.0",
   "language": "julia",
   "name": "julia-1.4"
  },
  "language_info": {
   "file_extension": ".jl",
   "mimetype": "application/julia",
   "name": "julia",
   "version": "1.4.0"
  }
 },
 "nbformat": 4,
 "nbformat_minor": 4
}
