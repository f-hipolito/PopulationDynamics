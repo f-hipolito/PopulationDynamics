{
 "cells": [
  {
   "cell_type": "markdown",
   "metadata": {},
   "source": [
    "# Portugal\n",
    "\n",
    "This notebook contains all the Julia 1.4.x code required to characterize the \n",
    "propagation of CoViD19 as discussed in the main notebook:\n",
    " _Population_dynamics.ipynb_\n",
    "\n",
    "Here we use simple _logistic_ like models, based only on the total number of \n",
    "infected cases, for more robust and elaborate models consider the SIR_like \n",
    "notebooks found in this folder."
   ]
  },
  {
   "cell_type": "markdown",
   "metadata": {},
   "source": [
    "### Initialization, display LOAD_PATH at the end"
   ]
  },
  {
   "cell_type": "code",
   "execution_count": null,
   "metadata": {},
   "outputs": [],
   "source": [
    "push!(LOAD_PATH, pwd())\n",
    "if ispath( pwd()*\"/src\")\n",
    "    push!(LOAD_PATH, pwd()*\"/src\")\n",
    "end\n",
    "\n",
    "\n",
    "using SpecialFunctions, LaTeXStrings\n",
    "using DataFrames, Query, CSV, Dates\n",
    "using LsqFit\n",
    "\n",
    "using MyFunctions, Mrate\n",
    "\n",
    "using Plots\n",
    "# plotly();\n",
    "theme( :gruvbox_light );\n",
    "mysize = ( Int( round( 400 *MathConstants.golden ) ), 400 );"
   ]
  },
  {
   "cell_type": "markdown",
   "metadata": {},
   "source": [
    "### Parametrization for the incubation times, source:\n",
    "https://doi.org/10.2807/1560-7917.ES.2020.25.5.2000062"
   ]
  },
  {
   "cell_type": "code",
   "execution_count": null,
   "metadata": {},
   "outputs": [],
   "source": [
    "μΓ, σΓ = 6.5, 2.6;      # mean and standard deviation for incubation\n",
    "\n",
    "αΓ( μ, σ ) = μ^2/σ^2;   # [α] = 1  is a dimensionless parameter\n",
    "βΓ( μ, σ ) = μ / σ^2    # [β] = 1/T has dimension of frequency\n",
    "\n",
    "α0 = αΓ( μΓ, σΓ );\n",
    "β0 = βΓ( μΓ, σΓ );\n",
    "\n",
    "ρ0=[α0,β0];"
   ]
  },
  {
   "cell_type": "markdown",
   "metadata": {},
   "source": [
    "### load data and manipulate data"
   ]
  },
  {
   "cell_type": "code",
   "execution_count": null,
   "metadata": {
    "scrolled": true
   },
   "outputs": [],
   "source": [
    "path = pwd()*\"/datahub.io/covid-19/data\";\n",
    "path_data = path*\"/time-series-19-covid-combined.csv\";\n",
    "path_ref  = path*\"/reference.csv\";\n",
    "\n",
    "raw_data = CSV.File( path_data ) |> DataFrame!;\n",
    "col_names = names( raw_data )\n",
    "\n",
    "col_names[2] = \"CountryRegion\";\n",
    "col_names[3] = \"ProvinceState\";\n",
    "rename!( raw_data, col_names );"
   ]
  },
  {
   "cell_type": "code",
   "execution_count": null,
   "metadata": {},
   "outputs": [],
   "source": [
    "country_names =  unique( raw_data[!,2] );\n",
    "country_name = \"Portugal\";\n",
    "country = raw_data |> @filter( _.CountryRegion==country_name\n",
    "    ) |> DataFrame;"
   ]
  },
  {
   "cell_type": "code",
   "execution_count": null,
   "metadata": {},
   "outputs": [],
   "source": [
    "dates = Date.( country[!,:Date] );\n",
    "\n",
    "confirmed_int = convert( Array{Number}, country[!,:Confirmed] );\n",
    "recovered_int = convert( Array{Number}, country[!,:Recovered] );\n",
    "deaths_int    = convert( Array{Number}, country[!,:Deaths   ] );"
   ]
  },
  {
   "cell_type": "code",
   "execution_count": null,
   "metadata": {},
   "outputs": [],
   "source": [
    "d1   = findfirst( >=(1  ), confirmed_int );\n",
    "d10  = findfirst( >=(10 ), confirmed_int );\n",
    "d20  = findfirst( >=(20 ), confirmed_int );\n",
    "d50  = findfirst( >=(50 ), confirmed_int );\n",
    "d100 = findfirst( >=(100), confirmed_int );"
   ]
  },
  {
   "cell_type": "markdown",
   "metadata": {},
   "source": [
    "read raw data and basic processing"
   ]
  },
  {
   "cell_type": "code",
   "execution_count": null,
   "metadata": {},
   "outputs": [],
   "source": [
    "raw_ref  = CSV.File( path_ref  ) |> DataFrame!;\n",
    "ref_names = names( raw_ref )\n",
    "\n",
    "IDs = convert( Vector, raw_ref[!,11] );\n",
    "\n",
    "row_country = findall( isequal( country_name ), IDs );\n",
    "@assert length( row_country ) == 1\n",
    "population = convert.( Number, raw_ref[ row_country[1], 12 ] );\n",
    "\n",
    "println( [ population, 1/population ]' )"
   ]
  },
  {
   "cell_type": "code",
   "execution_count": null,
   "metadata": {},
   "outputs": [],
   "source": [
    "#   set initial time and offset it to day of first registered infection\n",
    "date_1 = dates[ d1 ]\n",
    "data_last = dates[ end ]\n",
    "days = float.( Dates.value.( dates -date_1 ) )\n",
    "\n",
    "# normalize population\n",
    "confirmed = confirmed_int ./ population;\n",
    "recovered = recovered_int ./ population;\n",
    "deaths    = deaths_int    ./ population;\n",
    "\n",
    "# determine normalized sir time series\n",
    "removed     = ( recovered +deaths  );\n",
    "infected    = ( confirmed -removed );\n",
    "susceptible = ( 1 .-infected .-removed );"
   ]
  },
  {
   "cell_type": "markdown",
   "metadata": {},
   "source": [
    "#### visualize raw data"
   ]
  },
  {
   "cell_type": "code",
   "execution_count": null,
   "metadata": {},
   "outputs": [],
   "source": [
    "nM = 1.25 *maximum( confirmed )\n",
    "nm = 0.75 *minimum( confirmed )\n",
    "\n",
    "\n",
    "tm, tM = days[d1], maximum( days ) +5;"
   ]
  },
  {
   "cell_type": "code",
   "execution_count": null,
   "metadata": {},
   "outputs": [],
   "source": [
    "plot( days, confirmed, label=\"total infected\"\n",
    "    , shape=:cross, msize=5, lα=0\n",
    "    , xlabel = L\"t \\, \\mathrm{(d)}\", xlims = (0,tM), xticks = 0:15:tM\n",
    "    , ylabel = L\"n \\, (\\mathrm{cases}/N_t)\", ylims = (-500*nm,nM)\n",
    "    , legend=:topleft, legendfontsize=6, size=mysize )\n",
    "plot!( days, infected, label=\"infected\"\n",
    "    , markershape=:xcross, markersize=5, linealpha=0 )\n",
    "plot!( days, recovered, label=\"recovered\"\n",
    "    , markershape=:hline, markersize=5, linealpha=0 )\n",
    "plot!( days, deaths, label=\"deaths\"\n",
    "    , markershape=:vline, markersize=5, linealpha=0 )"
   ]
  },
  {
   "cell_type": "markdown",
   "metadata": {},
   "source": [
    "#### Note the large jump at  t=83\n",
    "\n",
    "On this day, 2020-05-24, the Portuguese authorities change the criteria that \n",
    "defined the transition from infected to recovered status, leading to a large \n",
    "conversion of infected to recovered cases.\n",
    "\n",
    "This in criteria breaks the characterization of the infected and recovered time \n",
    "series, but it is not relevant for the current model, which only considers the \n",
    "total number of infections, rather than the _active_ infected cases.\n",
    "\n",
    "Please refer to the discussion on the limitations of the _logistic_ model and \n",
    "see the generalization to the SIR like models for further details.\n",
    "\n",
    "Consider the following reports in the Portuguese press\n",
    "[Público](https://www.publico.pt/2020/05/24/sociedade/noticia/nova-contagem-casos-traz-recorde-recuperados-covid19-1917895)\n",
    "and\n",
    "[Sabado](https://www.sabado.pt/portugal/detalhe/covid-19-numero-de-recuperados-vai-disparar-avisa-ministra)."
   ]
  },
  {
   "cell_type": "code",
   "execution_count": null,
   "metadata": {},
   "outputs": [],
   "source": [
    "#\n",
    "# https://www.sabado.pt/portugal/detalhe/covid-19-numero-de-recuperados-vai-disparar-avisa-ministra\n",
    "t_break_1 = findfirst( ==(Dates.Date(\"2020-05-24\")), dates )\n",
    "println( t_break_1 -d1, \"  \", dates[ t_break_1 ] )"
   ]
  },
  {
   "cell_type": "code",
   "execution_count": null,
   "metadata": {},
   "outputs": [],
   "source": [
    "plot!( yscale = :log10, ylims = (5e-7,5e-3) )"
   ]
  },
  {
   "cell_type": "code",
   "execution_count": null,
   "metadata": {},
   "outputs": [],
   "source": [
    "plot!( yscale = :auto, ylims = (-500*nm,nM) );"
   ]
  },
  {
   "cell_type": "markdown",
   "metadata": {},
   "source": [
    "### The models\n",
    "__Note:__ parameter p[2] is not multiplied by p[1] as in the main notes. Here p[2] is dimensionless! To recover the definition used in the main text divide by p[1], ie t_0 = p[2]/p[1]"
   ]
  },
  {
   "cell_type": "code",
   "execution_count": null,
   "metadata": {},
   "outputs": [],
   "source": [
    "# simple logistic model\n",
    "@. model0(t,p) = 1/( 1.0 +exp( -p[1]*t +p[2] ) );"
   ]
  },
  {
   "cell_type": "code",
   "execution_count": null,
   "metadata": {},
   "outputs": [],
   "source": [
    "# the m-steady state model and its Jacobian\n",
    "# definitions of modelm, modelm_j and all other relevant functions\n",
    "# at Mrate.jl and MyFunctions.jl\n",
    "\n",
    "function m_m( t, p )\n",
    "    modelm(t,p,ρ0)\n",
    "end;\n",
    "\n",
    "function j_m(t::Array,p)\n",
    "    J = Array{Float64}(undef, length(t), length(p))\n",
    "    J = modelm_j(t, p, ρ0)\n",
    "end;"
   ]
  },
  {
   "cell_type": "code",
   "execution_count": null,
   "metadata": {},
   "outputs": [],
   "source": [
    "p0 = [0.25, 0. ];\n",
    "x0 = [0, 1.0, 2.0];\n",
    "model0(0.0, p0);\n",
    "model0(x0, p0);\n",
    "m_m(0.0,p0);\n",
    "m_m(x0,p0);\n",
    "j_m(x0,p0);"
   ]
  },
  {
   "cell_type": "markdown",
   "metadata": {},
   "source": [
    "### Nonlinear fits\n",
    "#### The logistic fit"
   ]
  },
  {
   "cell_type": "code",
   "execution_count": null,
   "metadata": {},
   "outputs": [],
   "source": [
    "t_offset, d_off = date_1, d1\n",
    "tcont = range(days[1],days[end]*1.1; length=3*length(days))\n",
    "\n",
    "dm, dM = d1, length(days);\n",
    "xdata = days[dm:dM]; ydata = confirmed[dm:dM];\n",
    "\n",
    "\n",
    "fit0 = curve_fit( model0, xdata, ydata, p0 )\n",
    "estimate0 = model0( tcont, fit0.param )\n",
    "\n",
    "# half population time and date\n",
    "t12 = floor( fit0.param[2]/fit0.param[1] )\n",
    "t_offset +Dates.Day( t12 )\n",
    "\n",
    "plot( days, confirmed, label=\"total infected\"\n",
    "    , shape=:cross, msize=5, lα=0\n",
    "    , xlabel = L\"t \\, \\mathrm{(d)}\", xlims = (0,tM), xticks = 0:15:tM\n",
    "    , ylabel = L\"n \\, (\\mathrm{cases}/N_t)\", ylims = (-500*nm,nM)\n",
    "    , legend=:topleft, legendfontsize=6, size=mysize )\n",
    "\n",
    "plot!( tcont, estimate0, label=\"logistic\", linewidth=1.5 )"
   ]
  },
  {
   "cell_type": "code",
   "execution_count": null,
   "metadata": {},
   "outputs": [],
   "source": [
    "# ------------------------------------ #\n",
    "#\n",
    "#   truncated logistic 1\n",
    "# \n",
    "dm, dM = d_off, d_off+30; p0 = [1., 25]\n",
    "xdata = days[dm:dM]; ydata = confirmed[dm:dM];\n",
    "\n",
    "fit0b = curve_fit( m_m, j_m, xdata, ydata, p0; )\n",
    "estimate0b = m_m( tcont, fit0b.param )\n",
    "\n",
    "println( round.( fit0b.param'; sigdigits=3 )  )\n",
    "\n",
    "# half population time and date\n",
    "t12 = floor( fit0b.param[2]/fit0b.param[1] )\n",
    "t_offset +Dates.Day( t12 )\n",
    "\n",
    "\n",
    "# ------------------------------------ #\n",
    "#\n",
    "#   truncated logistic 2\n",
    "# \n",
    "dm, dM = d_off+30, d_off+55;\n",
    "xdata = days[dm:dM]; ydata = confirmed[dm:dM];\n",
    "\n",
    "fit0c = curve_fit( m_m, j_m, xdata, ydata, p0 )\n",
    "estimate0c = m_m( tcont, fit0c.param )\n",
    "\n",
    "\n",
    "fit0c.param\n",
    "\n",
    "\n",
    "# ------------------------------------ #\n",
    "#\n",
    "#   truncated logistic 3\n",
    "# \n",
    "dm, dM = d_off+60, length(days);\n",
    "xdata = days[dm:dM]; ydata = confirmed[dm:dM];\n",
    "\n",
    "fit0d = curve_fit( m_m, j_m, xdata, ydata, [0.001, 10.] )\n",
    "estimate0d = m_m( tcont, fit0d.param )\n",
    "\n",
    "\n",
    "\n",
    "plot!( tcont, estimate0b, linewidth = 1.5, label=\"truncated logistic\"  )\n",
    "plot!( tcont, estimate0c, linewidth = 1.5, label=\"truncated logistic 2\" )\n",
    "plot!( tcont, estimate0d, linewidth = 1.5, label=\"truncated logistic 3\" )"
   ]
  },
  {
   "cell_type": "markdown",
   "metadata": {},
   "source": [
    "#### two steady state model m=1"
   ]
  },
  {
   "cell_type": "code",
   "execution_count": null,
   "metadata": {},
   "outputs": [],
   "source": [
    "# ------------------------------------ #\n",
    "# \n",
    "#   two rate steady state m = 1\n",
    "# \n",
    "dm, dM = d_off, length(days); p1 = [0.2, 15, 0.05, 50 ];\n",
    "xdata = days[dm:dM]; ydata = confirmed[dm:dM];\n",
    "\n",
    "fit1 = curve_fit( m_m, j_m, xdata, ydata, p1 )\n",
    "estimate1 = m_m( tcont, fit1.param )\n",
    "\n",
    "println( round.( fit1.param'; sigdigits=3 )  )\n",
    "\n",
    "\n",
    "# ------------------------------------ #\n",
    "# \n",
    "#   truncated two rate steady state m = 1\n",
    "# \n",
    "dm, dM = d_off, d_off+55; p1 = [0.2, 15, 0.05, 16 ];\n",
    "xdata = days[dm:dM]; ydata = confirmed[dm:dM];\n",
    "\n",
    "fit1b = curve_fit( m_m, j_m, xdata, ydata, p1 )\n",
    "estimate1b = m_m( tcont, fit1b.param )\n",
    "\n",
    "fit1b.param[2]/fit1b.param[1]\n",
    "t12 = floor( fit1b.param[2]/fit1b.param[3] )\n",
    "t_offset +Dates.Day( t12 )\n",
    "t_offset +Dates.Day( floor( fit1b.param[4] ) )\n",
    "\n",
    "println( round.( fit1b.param'; sigdigits=3 )  )\n",
    "\n",
    "\n",
    "# transition date (day)\n",
    "println( t_offset +Dates.Day.( floor.( [ fit1.param[4],fit1b.param[4] ] )) )\n",
    "\n",
    "\n",
    "plot( days, confirmed, label=\"total infected\"\n",
    "    , shape=:cross, msize=5, lα=0\n",
    "    , xlabel = L\"t \\, \\mathrm{(d)}\", xlims = (0,tM), xticks = 0:15:tM\n",
    "    , ylabel = L\"n \\, (\\mathrm{cases}/N_t)\", ylims = (-500*nm,nM)\n",
    "    , legend=:topleft, legendfontsize=6, size=mysize )\n",
    "plot!( tcont, estimate1, linewidth=1.5\n",
    "    , label=\"two steady states\" )\n",
    "\n",
    "plot!( tcont, estimate1b, linewidth=1.5\n",
    "    , label=\"truncated two steady states\" )"
   ]
  },
  {
   "cell_type": "markdown",
   "metadata": {},
   "source": [
    "#### three steady state m=2"
   ]
  },
  {
   "cell_type": "code",
   "execution_count": null,
   "metadata": {},
   "outputs": [],
   "source": [
    "# ------------------------------------ #\n",
    "# \n",
    "#   three rate steady state m = 1\n",
    "# \n",
    "dm, dM = d_off, length(days); p2 = [0.25, 15, 0.01, 20, 0.005, 55 ]\n",
    "xdata = days[dm:dM]; ydata = confirmed[dm:dM];\n",
    "\n",
    "fit2 = curve_fit( m_m, j_m, xdata, ydata, p2 )\n",
    "estimate2 = m_m( tcont, fit2.param );\n",
    "println( round.( fit2.param'; sigdigits=3 ) )\n",
    "\n",
    "# ------------------------------------ #\n",
    "# \n",
    "#   constrained three rate steady state m = 1\n",
    "# \n",
    "lb = [ 0.1, 1   , 0.005, 20, 0.00001, 45 ];\n",
    "ub = [ 0.3, 1000, 0.1  , 45, 0.1    , 60 ];\n",
    "fit2b = curve_fit( m_m, j_m, xdata, ydata, p2; lower=lb, upper=ub )\n",
    "\n",
    "estimate2b = m_m( tcont, fit2b.param )\n",
    "println( round.( fit2b.param'; sigdigits=3 ) )\n",
    "\n",
    "\n",
    "plot( days, confirmed, label=\"total infected\"\n",
    "    , shape=:cross, msize=5, lα=0\n",
    "    , xlabel = L\"t \\, \\mathrm{(d)}\", xlims = (0,tM), xticks = 0:15:tM\n",
    "    , ylabel = L\"n \\, (\\mathrm{cases}/N_t)\", ylims = (-500*nm,nM)\n",
    "    , legend=:topleft, legendfontsize=6, size=mysize )\n",
    "plot!( tcont, estimate2, linewidth=1.5, label=\"three steady states\" )\n",
    "plot!( tcont, estimate2b, linewidth=1.5, label=\"constrained three steady states\" )"
   ]
  },
  {
   "cell_type": "code",
   "execution_count": null,
   "metadata": {},
   "outputs": [],
   "source": [
    "# transition dates\n",
    "println( t_offset +Dates.Day.( floor.( fit2b.param[4:2:length(p2)]' ) ) )"
   ]
  },
  {
   "cell_type": "code",
   "execution_count": null,
   "metadata": {},
   "outputs": [],
   "source": [
    "# doubling times for each rate\n",
    "\n",
    "println( round.( log(2) ./fit2b.param[1:2:length(p2)]'; sigdigits=3 ) )"
   ]
  },
  {
   "cell_type": "markdown",
   "metadata": {},
   "source": [
    "# Combined plot and fit quality"
   ]
  },
  {
   "cell_type": "code",
   "execution_count": null,
   "metadata": {},
   "outputs": [],
   "source": [
    "plot( days, confirmed, label=\"total infected\"\n",
    "    , shape=:cross, msize=5, lα=0\n",
    "    , xlabel = L\"t \\, \\mathrm{(d)}\", xlims = (0,tM), xticks = 0:15:tM\n",
    "    , ylabel = L\"n \\, (\\mathrm{cases}/N_t)\", ylims = (-500*nm,nM)\n",
    "    , legend=:bottomright, legendfontsize=6, size=mysize )\n",
    "\n",
    "plot!( tcont, estimate0, label=\"logistic\", linewidth=1.5 )\n",
    "\n",
    "plot!( tcont, estimate0b, linewidth = 1.5, label=\"truncated logistic\"  )\n",
    "plot!( tcont, estimate0c, linewidth = 1.5, label=\"truncated logistic 2\" )\n",
    "plot!( tcont, estimate0d, linewidth = 1.5, label=\"truncated logistic 3\" )\n",
    "\n",
    "plot!( tcont, estimate1b, linewidth=1.5, label=\"truncated two steady states\" )\n",
    "\n",
    "plot!( tcont, estimate2, linewidth=1.5, label=\"three steady states\" )"
   ]
  },
  {
   "cell_type": "code",
   "execution_count": null,
   "metadata": {},
   "outputs": [],
   "source": [
    "savefig(\"img/\"*country_name*\"_fits_converged.svg\")\n",
    "plot!( yscale = :log10, ylims = (5e-7, 5-3) )"
   ]
  },
  {
   "cell_type": "code",
   "execution_count": null,
   "metadata": {},
   "outputs": [],
   "source": [
    "savefig(\"img/\"*country_name*\"_fits_converged_log.svg\")\n",
    "plot!( yscale = :auto, ylims = (nm,nM) );"
   ]
  },
  {
   "cell_type": "markdown",
   "metadata": {},
   "source": [
    "##### Estimate quality of fit"
   ]
  },
  {
   "cell_type": "code",
   "execution_count": null,
   "metadata": {},
   "outputs": [],
   "source": [
    "cov_mat = estimate_covar(fit2)\n",
    "sigma = stderror(fit2)\n",
    "\n",
    "margin_of_error = margin_error(fit2, 0.05)\n",
    "\n",
    "aux = confidence_interval(fit2, 0.05)\n",
    "confidence_inter = zeros(2,6)\n",
    "for i=1:length(p2)\n",
    "    confidence_inter[:,i] = collect( aux[i] )\n",
    "end\n",
    "\n",
    "\n",
    "# display the parameters\n",
    "println( round.( fit2.param; sigdigits=3 )' )"
   ]
  },
  {
   "cell_type": "code",
   "execution_count": null,
   "metadata": {},
   "outputs": [],
   "source": [
    "# estimate the margins of error\n",
    "println( round.( sigma; sigdigits=3 )' )"
   ]
  },
  {
   "cell_type": "code",
   "execution_count": null,
   "metadata": {},
   "outputs": [],
   "source": [
    "# estimate the margins of error\n",
    "println( round.( margin_of_error; sigdigits=3 )' )"
   ]
  },
  {
   "cell_type": "code",
   "execution_count": null,
   "metadata": {},
   "outputs": [],
   "source": [
    "# estimate the margins of error\n",
    "round.( confidence_inter; sigdigits=3 )"
   ]
  },
  {
   "cell_type": "code",
   "execution_count": null,
   "metadata": {},
   "outputs": [],
   "source": [
    "# the covariance matrix estimate\n",
    "round.( cov_mat; sigdigits=3 )"
   ]
  }
 ],
 "metadata": {
  "kernelspec": {
   "display_name": "JuliaPro_v1.4.2-1 1.4.2",
   "language": "julia",
   "name": "juliapro_v1.4.2-1-1.4"
  },
  "language_info": {
   "file_extension": ".jl",
   "mimetype": "application/julia",
   "name": "julia",
   "version": "1.4.2"
  }
 },
 "nbformat": 4,
 "nbformat_minor": 4
}
